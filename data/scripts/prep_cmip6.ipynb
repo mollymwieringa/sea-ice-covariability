{
 "cells": [
  {
   "cell_type": "markdown",
   "id": "96684a40-99e9-490e-a6eb-07c7ac90f21d",
   "metadata": {},
   "source": [
    "Approach\n",
    "1) standardize model naming conventions\n",
    "2) fix models times \n",
    "3) regrid all models to global 1x1 degree grid \n",
    "4) apply precalculated area matrix\n",
    "5) calculate variables "
   ]
  },
  {
   "cell_type": "markdown",
   "id": "16cc3158-33c3-41d6-9e37-800ff9215b70",
   "metadata": {},
   "source": [
    "ISSUES:\n",
    "\n",
    "- some models don't have grids (just strings of lat, lon) (AWI, GISS, ICON?)\n",
    "- some models don't want to be regridded (EC-EArth, IPSL-LR, MPI-HR\n",
    "- some models are missing siconc data (KACE, MCM)\n",
    "- some models don't want to open (NESM23)\n",
    "\n",
    "\n",
    "- **still need to get the corresponding SSP5-8.5 projections to capture the rest of the observational period**\n",
    "- **still need to get daily data**"
   ]
  },
  {
   "cell_type": "code",
   "execution_count": 1,
   "id": "2693a347-cdbf-4d3b-8dbb-6fd90b5071ef",
   "metadata": {},
   "outputs": [],
   "source": [
    "import xarray as xr\n",
    "import matplotlib.pyplot as plt\n",
    "import numpy as np\n",
    "import glob\n",
    "from shapely.geometry import box as BOX\n",
    "import datetime\n",
    "import xesmf as xe"
   ]
  },
  {
   "cell_type": "markdown",
   "id": "36666d65-5f25-4bdc-ba8f-791eb9ba496d",
   "metadata": {
    "tags": []
   },
   "source": [
    "### data downloaded"
   ]
  },
  {
   "cell_type": "code",
   "execution_count": 1,
   "id": "2dd5ab32-f972-4ea9-a091-2b24ea03da79",
   "metadata": {
    "tags": []
   },
   "outputs": [],
   "source": [
    "def unite_data(thick_file, conc_file, timeslice = []):\n",
    "    \n",
    "    # open files\n",
    "    if len(thick_file) > 1:\n",
    "        ds1 = xr.open_mfdataset(thick_file)\n",
    "        ds2 = xr.open_mfdataset(conc_file)\n",
    "    else:\n",
    "        ds1 = xr.open_dataset(thick_file[0])\n",
    "        ds2 = xr.open_dataset(conc_file[0])\n",
    "    \n",
    "    # limit time window\n",
    "    if timeslice:\n",
    "        ds1 = ds1.sel(time = slice(timeslice[0], timeslice[1]))\n",
    "        ds2 = ds2.sel(time = slice(timeslice[0], timeslice[1]))\n",
    "    else:\n",
    "        pass\n",
    "    \n",
    "    # unite data\n",
    "    if ds2.siconc.max() > 1:\n",
    "        ds1['siconc'] = ds2.siconc/100\n",
    "    else:\n",
    "        ds1['siconc'] = ds2.siconc\n",
    "    \n",
    "    return ds1"
   ]
  },
  {
   "cell_type": "code",
   "execution_count": 3,
   "id": "ef372917-f833-4a84-8caa-d1671dcaef1b",
   "metadata": {
    "tags": []
   },
   "outputs": [],
   "source": [
    "def parse_data(ds):\n",
    "    \n",
    "    # get list of coordinate and dimension keys\n",
    "    old_coord_keys = list(ds.coords.keys())\n",
    "    old_dim_keys = list(ds.dims.keys())\n",
    "    \n",
    "    # rename to standard set of named keys (t --> time, (i, ni) --> x, (j, nj) --> y, lat --> latitude, lon --> longitude)\n",
    "    standard = [None]*4\n",
    "    if 'i' in old_dim_keys:\n",
    "        standard[0] = 'i'\n",
    "        standard[1] = 'j'\n",
    "    elif 'ni' in old_dim_keys:\n",
    "        standard[0] = 'ni'\n",
    "        standard[1] = 'nj'\n",
    "    else:\n",
    "        standard[0] = 'x'\n",
    "        standard[1] = 'y'\n",
    "        \n",
    "    if 'latitude' in old_coord_keys:\n",
    "        standard[2] = 'latitude'\n",
    "        standard[3] = 'longitude'\n",
    "    elif 'nav_lat' in old_coord_keys:\n",
    "        standard[2] = 'nav_lat'\n",
    "        standard[3] = 'nav_lon'\n",
    "    else:\n",
    "        standard[2] = 'lat'\n",
    "        standard[3] = 'lon'\n",
    "    \n",
    "    ds = ds.rename({standard[0]:'x', \n",
    "                    standard[1]:'y',\n",
    "                    standard[2]:'lat',\n",
    "                    standard[3]:'lon'})\n",
    "    \n",
    "    # drop bad dimension keys\n",
    "    dim_keys = list(ds.dims.keys()) \n",
    "    bad_dim_keys = [key for key in dim_keys if key not in ['x','y','time']]\n",
    "    ds = ds.drop_dims(bad_dim_keys)\n",
    "    \n",
    "    # drop bad coordinate keys\n",
    "    coord_keys = list(ds.coords.keys())\n",
    "    bad_coord_keys = [key for key in coord_keys if key not in ['lat','lon','time']]\n",
    "    ds = ds.drop(bad_coord_keys)\n",
    "    \n",
    "    # drop unneccessary variables\n",
    "    var_keys = list(ds.variables.keys())\n",
    "    bad_var_keys = [key for key in var_keys if key not in ['sithick', 'siconc','lat','lon','time']]\n",
    "    ds = ds.drop(bad_var_keys)\n",
    "        \n",
    "    # transpose to (time, x, y)\n",
    "    ds = ds.transpose('time','y','x')\n",
    "    \n",
    "    return ds"
   ]
  },
  {
   "cell_type": "code",
   "execution_count": 42,
   "id": "50fec607-2db8-4339-9c3e-96ea72107663",
   "metadata": {
    "tags": []
   },
   "outputs": [],
   "source": [
    "def correct_time_and_loc(ds, years):\n",
    "    \n",
    "    # correct time\n",
    "    init_time = datetime.datetime(years[0],1,15)\n",
    "\n",
    "    model_times = []\n",
    "    for x in range(years[0],years[1]):\n",
    "        for y in range(1,13):\n",
    "            model_times.append(datetime.datetime(x,y,15))\n",
    "\n",
    "    ds['time'] = model_times\n",
    "    \n",
    "    # correct longitude and latitude\n",
    "    ds['lon'] = ds.lon.where(ds.lon < 180, ds.lon - 360)\n",
    "    ds['lat'] = ds.lat.where(ds.lat < 90)\n",
    "    ds['lat'] = ds.lat.where(ds.lat > -90)\n",
    "    \n",
    "    ds = regrid(ds)\n",
    "    \n",
    "    area = xr.open_dataset('xESMF_1x1_grid_area.nc')\n",
    "    ds['grid_area'] = (('y','x'),area.area.data)\n",
    "    \n",
    "    return ds"
   ]
  },
  {
   "cell_type": "code",
   "execution_count": 32,
   "id": "95622d76-66ea-43b6-b628-4caae3b8f45d",
   "metadata": {
    "tags": []
   },
   "outputs": [],
   "source": [
    "def regrid(ds_in):\n",
    "\n",
    "    ds_out = xe.util.grid_global(1, 1)\n",
    "    regridder = xe.Regridder(ds_in, ds_out, \"bilinear\")\n",
    "    ds = regridder(ds_in)\n",
    "    \n",
    "    return ds"
   ]
  },
  {
   "cell_type": "code",
   "execution_count": 6,
   "id": "65c76392-cd82-4653-bca4-b334b1d66654",
   "metadata": {
    "tags": []
   },
   "outputs": [],
   "source": [
    "def get_variables(ds, region = 'Arctic'):\n",
    "    \n",
    "    ds = ds.where(ds.grid_area > 0)\n",
    "    \n",
    "    # limit to region of choice\n",
    "    if region == 'Arctic':\n",
    "        ds = ds.where(ds.lat > 50)\n",
    "    elif region == 'Antarctic':\n",
    "        ds = ds.where(ds.lat < -50)\n",
    "    elif region == 'both':\n",
    "        pass\n",
    "    else:\n",
    "        AssertionError('incorrect region input!')\n",
    "    \n",
    "    # limit to where there is ice \n",
    "    ds = ds.where(ds.siconc > 0)\n",
    "    \n",
    "    # calculate \n",
    "    Sea_Ice_Area = ds.siconc * ds.grid_area\n",
    "    Sea_Ice_Volume = ds.sithick * Sea_Ice_Area\n",
    "    SIA = Sea_Ice_Area.sum(dim = ['x','y'])\n",
    "    SIV = Sea_Ice_Volume.sum(dim = ['x','y'])\n",
    "    \n",
    "    # reassign\n",
    "    ds['siarea'] = Sea_Ice_Area\n",
    "    ds['sivol'] = Sea_Ice_Volume\n",
    "    ds['SIA'] = SIA\n",
    "    ds['SIV'] = SIV\n",
    "    \n",
    "    return ds"
   ]
  },
  {
   "cell_type": "code",
   "execution_count": 7,
   "id": "7061e3c4-ddee-49eb-bbc6-ab9bffa3ca3e",
   "metadata": {},
   "outputs": [],
   "source": [
    "# bad_models =  ['AWI-ESM-1-1-LR', 'E3SM-1-0',,'GISS-E2-2-G','GISS-E2-2-H','ICON-ESM-LR','KACE-1-0-G','MCM-UA-1-0','NESM3','EC-Earth3-Veg', 'EC-Earth3','EC-Earth3-AerChem','IPSL-CM6A-LR-INCA','MPI-ESM1-2-HR',]"
   ]
  },
  {
   "cell_type": "code",
   "execution_count": 8,
   "id": "eeda2ad7-9540-4f08-b67c-7acd7f9606ef",
   "metadata": {},
   "outputs": [],
   "source": [
    "models = ['ACCESS-CM2', 'ACCESS-ESM1-5', 'CESM2-FV2', 'CESM2-WACCM-FV2', 'CESM2', 'CMCC-CM2-SR5', \n",
    "          'CMCC-ESM2', 'GFDL-CM4','GFDL-ESM4','IPSL-CM5A2-INCA','MPI-ESM-1-2-HAM','MPI-ESM1-2-LR','TaiESM1']"
   ]
  },
  {
   "cell_type": "code",
   "execution_count": 49,
   "id": "795264e9-f5db-4888-93bd-85e2707a85b8",
   "metadata": {},
   "outputs": [
    {
     "name": "stdout",
     "output_type": "stream",
     "text": [
      "MPI-ESM1-2-LR  processing complete!\n",
      "TaiESM1  processing complete!\n"
     ]
    }
   ],
   "source": [
    "timescale = [2010,2015]\n",
    "for model in models:\n",
    "    thick_files = sorted(glob.glob('/glade/work/mollyw/Projects/sea_ice_covariability/data/cmip6/data/v_sithick_*_'+model+'_*/*.nc'))\n",
    "    conc_files = sorted(glob.glob('/glade/work/mollyw/Projects/sea_ice_covariability/data/cmip6/data/v_siconc_*_'+model+'_*/*.nc'))\n",
    "    \n",
    "    ds = unite_data(thick_files, conc_files, timeslice = ['2010-01-01', '2022-01-01'])\n",
    "    ds = parse_data(ds)\n",
    "    ds = correct_time_and_loc(ds, timescale)\n",
    "    ds = get_variables(ds)\n",
    "    \n",
    "    ds.to_netcdf(model+'_'+str(timescale[0])+'-'+str(timescale[1])+'_1x1.nc')\n",
    "    \n",
    "    print(model, ' processing complete!')"
   ]
  },
  {
   "cell_type": "markdown",
   "id": "42456016-6dfb-4ff0-acb4-9f1557b0f25c",
   "metadata": {},
   "source": [
    "### XMIP"
   ]
  },
  {
   "cell_type": "code",
   "execution_count": 2,
   "id": "a727736d-102d-4c5b-b673-718938d57fd9",
   "metadata": {},
   "outputs": [
    {
     "ename": "ImportError",
     "evalue": "This functionality requires intake-esm. Install with `conda install -c conda-forge intake-esm",
     "output_type": "error",
     "traceback": [
      "\u001b[0;31m---------------------------------------------------------------------------\u001b[0m",
      "\u001b[0;31mImportError\u001b[0m                               Traceback (most recent call last)",
      "Cell \u001b[0;32mIn[2], line 1\u001b[0m\n\u001b[0;32m----> 1\u001b[0m col \u001b[38;5;241m=\u001b[39m \u001b[43mgoogle_cmip_col\u001b[49m\u001b[43m(\u001b[49m\u001b[43m)\u001b[49m\n",
      "File \u001b[0;32m~/.conda/envs/cmip/lib/python3.10/site-packages/xmip/utils.py:10\u001b[0m, in \u001b[0;36mgoogle_cmip_col\u001b[0;34m(catalog)\u001b[0m\n\u001b[1;32m      8\u001b[0m \u001b[38;5;124;03m\"\"\"A tiny utility function to point to the 'official' pangeo cmip6 cloud files.\"\"\"\u001b[39;00m\n\u001b[1;32m      9\u001b[0m \u001b[38;5;28;01mif\u001b[39;00m intake \u001b[38;5;129;01mis\u001b[39;00m \u001b[38;5;28;01mNone\u001b[39;00m:\n\u001b[0;32m---> 10\u001b[0m     \u001b[38;5;28;01mraise\u001b[39;00m \u001b[38;5;167;01mImportError\u001b[39;00m(\n\u001b[1;32m     11\u001b[0m         \u001b[38;5;124m\"\u001b[39m\u001b[38;5;124mThis functionality requires intake-esm. Install with `conda install -c conda-forge intake-esm\u001b[39m\u001b[38;5;124m\"\u001b[39m\n\u001b[1;32m     12\u001b[0m     )\n\u001b[1;32m     13\u001b[0m \u001b[38;5;28;01mif\u001b[39;00m catalog \u001b[38;5;241m==\u001b[39m \u001b[38;5;124m\"\u001b[39m\u001b[38;5;124mmain\u001b[39m\u001b[38;5;124m\"\u001b[39m:\n\u001b[1;32m     14\u001b[0m     \u001b[38;5;28;01mreturn\u001b[39;00m intake\u001b[38;5;241m.\u001b[39mopen_esm_datastore(\n\u001b[1;32m     15\u001b[0m         \u001b[38;5;124m\"\u001b[39m\u001b[38;5;124mhttps://storage.googleapis.com/cmip6/pangeo-cmip6.json\u001b[39m\u001b[38;5;124m\"\u001b[39m\n\u001b[1;32m     16\u001b[0m     )\n",
      "\u001b[0;31mImportError\u001b[0m: This functionality requires intake-esm. Install with `conda install -c conda-forge intake-esm"
     ]
    }
   ],
   "source": [
    "col = google_cmip_col()"
   ]
  },
  {
   "cell_type": "markdown",
   "id": "dde56b59-2bae-433e-9608-f376c4785385",
   "metadata": {
    "jp-MarkdownHeadingCollapsed": true,
    "tags": []
   },
   "source": [
    "### Get xESMF grid area info"
   ]
  },
  {
   "cell_type": "code",
   "execution_count": 19,
   "id": "0bd97513-a92a-45f0-af7f-4e20e8eea66b",
   "metadata": {},
   "outputs": [],
   "source": [
    "def lat_lon_cell_area(lat_lon_grid_cell):\n",
    "    \"\"\"\n",
    "    Calculate the area of a cell, in meters^2, on a lat/lon grid.\n",
    "    \n",
    "    This applies the following equation from Santinie et al. 2010.\n",
    "    \n",
    "    S = (λ_2 - λ_1)(sinφ_2 - sinφ_1)R^2\n",
    "    \n",
    "    S = surface area of cell on sphere\n",
    "    λ_1, λ_2, = bands of longitude in radians\n",
    "    φ_1, φ_2 = bands of latitude in radians\n",
    "    R = radius of the sphere\n",
    "    \n",
    "    Santini, M., Taramelli, A., & Sorichetta, A. (2010). ASPHAA: A GIS‐Based \n",
    "    Algorithm to Calculate Cell Area on a Latitude‐Longitude (Geographic) \n",
    "    Regular Grid. Transactions in GIS, 14(3), 351-377.\n",
    "    https://doi.org/10.1111/j.1467-9671.2010.01200.x\n",
    "\n",
    "    Parameters\n",
    "    ----------\n",
    "    lat_lon_grid_cell\n",
    "        A shapely box with coordinates on the lat/lon grid\n",
    "\n",
    "    Returns\n",
    "    -------\n",
    "    float\n",
    "        The cell area in meters^2\n",
    "\n",
    "    \"\"\"\n",
    "    from numpy import radians, cos, sin\n",
    "    \n",
    "    # mean earth radius - https://en.wikipedia.org/wiki/Earth_radius#Mean_radius\n",
    "    AVG_EARTH_RADIUS_METERS = 6371008.8\n",
    "    \n",
    "    west, south, east, north = lat_lon_grid_cell.bounds\n",
    "    \n",
    "    if abs(west - east) > 300:\n",
    "        west = west + 360\n",
    "        # print(east)\n",
    "    \n",
    "    west = radians(west)\n",
    "    east = radians(east)\n",
    "    south = radians(south)\n",
    "    north = radians(north)\n",
    "    \n",
    "    return (east - west) * (sin(north) - sin(south)) * (AVG_EARTH_RADIUS_METERS**2)"
   ]
  },
  {
   "cell_type": "code",
   "execution_count": 26,
   "id": "8d9b247a-9c61-4be6-97e7-72b5b7b0b4bd",
   "metadata": {
    "tags": []
   },
   "outputs": [],
   "source": [
    "# area = np.zeros([len(ds.x),len(ds.y)])\n",
    "area = np.zeros([len(ds.y),len(ds.x)])\n",
    "for y in range(0, len(ds.y)-1):\n",
    "    for x in range(0,len(ds.x)-1):\n",
    "        lat1 = ds.lat[y][x]\n",
    "        lat2 = ds.lat[y+1][x+1]\n",
    "     \n",
    "        \n",
    "        lon1 = ds.lon[y][x]\n",
    "        lon2 = ds.lon[y+1][x+1]\n",
    "        \n",
    "        if lon1 < lon2 and lat2 < lat1:\n",
    "            box = BOX(lon2, lat1, lon1, lat2)\n",
    "        elif lon1 < lon2 and lat1 < lat2:\n",
    "            box = BOX(lon2, lat2, lon1, lat1)\n",
    "        elif lon2 < lon1 and lat1 < lat2:\n",
    "            box = BOX(lon1, lat2, lon2, lat1)\n",
    "        else:\n",
    "            box = BOX(lon1, lat1, lon2, lat2)\n",
    "        \n",
    "        area[y,x] = lat_lon_cell_area(box)"
   ]
  },
  {
   "cell_type": "code",
   "execution_count": 27,
   "id": "55182754-963b-47e3-9aac-e81bf5b3b3cc",
   "metadata": {},
   "outputs": [
    {
     "data": {
      "text/plain": [
       "<matplotlib.image.AxesImage at 0x2af35416e200>"
      ]
     },
     "execution_count": 27,
     "metadata": {},
     "output_type": "execute_result"
    },
    {
     "data": {
      "image/png": "[encoded data removed]",
      "text/plain": [
       "<Figure size 640x480 with 1 Axes>"
      ]
     },
     "metadata": {},
     "output_type": "display_data"
    }
   ],
   "source": [
    "plt.imshow(area)"
   ]
  },
  {
   "cell_type": "code",
   "execution_count": 28,
   "id": "52928202-d656-4ddb-ac66-f31adf3e38ba",
   "metadata": {},
   "outputs": [],
   "source": [
    "area_ds = xr.Dataset(data_vars=dict(\n",
    "                     area=([\"y\", \"x\",], area))\n",
    "                     )"
   ]
  },
  {
   "cell_type": "code",
   "execution_count": 30,
   "id": "83fff919-f73e-447d-a9f1-5e4ee343e0ec",
   "metadata": {},
   "outputs": [],
   "source": [
    "area_ds.to_netcdf('xESMF_1x1_grid_area.nc')"
   ]
  }
 ],
 "metadata": {
  "kernelspec": {
   "display_name": "Python [conda env:.conda-sicov]",
   "language": "python",
   "name": "conda-env-.conda-sicov-py"
  },
  "language_info": {
   "codemirror_mode": {
    "name": "ipython",
    "version": 3
   },
   "file_extension": ".py",
   "mimetype": "text/x-python",
   "name": "python",
   "nbconvert_exporter": "python",
   "pygments_lexer": "ipython3",
   "version": "3.10.9"
  }
 },
 "nbformat": 4,
 "nbformat_minor": 5
}
