{
 "cells": [
  {
   "cell_type": "markdown",
   "id": "3ef1f9da-20da-4581-a1ee-f247de202895",
   "metadata": {},
   "source": [
    "# Frankignoul & Hasselman, 1976"
   ]
  },
  {
   "cell_type": "code",
   "execution_count": null,
   "id": "0899616d-c748-4606-a7a7-9532a5d6a3db",
   "metadata": {},
   "outputs": [],
   "source": [
    "C_H = 1e-3       # bulk transfer coefficient for sensible heat flux\n",
    "B = 3            # Bowen ratio of latent to sensible heat flux\n",
    "rho_a = 1.25e-3  # (g/cm-3) density of air\n",
    "rho_w = 1        # (g/cm-3) density of water\n",
    "C_ap = 0.24      # (cal/gm/degC) specific heat of air\n",
    "C_wp = 0.96      # (cal/gm/degC) specific heat of water\n",
    "K = 0.25         # (deg C/m/s) constant of proportionality of temperature relation to NS wind\n",
    "\n",
    "\n",
    "V =              # NS wind velocity in a grid cell\n",
    "h = 25           # (m) mixed layer depth"
   ]
  },
  {
   "cell_type": "code",
   "execution_count": null,
   "id": "4447ff52-ca52-4107-a219-537275177a1c",
   "metadata": {},
   "outputs": [],
   "source": [
    "f = C_H*(1 + B)*rho_a*C_ap*K*V*U_abs * 1/(rho_w*C_wp)"
   ]
  }
 ],
 "metadata": {
  "kernelspec": {
   "display_name": "Python 3 (ipykernel)",
   "language": "python",
   "name": "python3"
  },
  "language_info": {
   "codemirror_mode": {
    "name": "ipython",
    "version": 3
   },
   "file_extension": ".py",
   "mimetype": "text/x-python",
   "name": "python",
   "nbconvert_exporter": "python",
   "pygments_lexer": "ipython3",
   "version": "3.9.12"
  }
 },
 "nbformat": 4,
 "nbformat_minor": 5
}
